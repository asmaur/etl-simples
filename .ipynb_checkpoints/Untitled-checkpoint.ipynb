{
 "cells": [
  {
   "cell_type": "markdown",
   "id": "d7199cee-b28d-4f2b-aa5d-8db211ddbe6d",
   "metadata": {},
   "source": [
    "# ETL Simple\n",
    "\n",
    "Na pasta assets, tem dados de 3 fontes diferentes (arquivos e formatos diferentes)\n",
    "\n",
    "Tarefa:\n",
    "\n",
    "- [ ] Extrair os dados para um único arquivo ***transormed_data.csv*** sendo o formato em csv.\n",
    "\n",
    "- [ ] O cabelho do arquivo final deverá ter os seguintes campos: name, height, weight\n",
    "\n",
    "- [ ] O campo height está em **inch** e deverá ser convertido em **m**. (0.0254 valor de conversão) com 2 digitos apos a virgula\n",
    "\n",
    "- [ ] O campo weight está em **pound** e deverá ser convertido em **kg**. (0.45359237 valor de conversão) com 2 digitos após a virgula\n",
    "\n",
    "    "
   ]
  },
  {
   "cell_type": "code",
   "execution_count": 1,
   "id": "3e5e2f35-7201-4ed9-918e-b02be7ef7d3e",
   "metadata": {
    "tags": []
   },
   "outputs": [],
   "source": [
    "# Imports\n",
    "import glob\n",
    "import pandas as pd\n",
    "import xml.etree.ElementTree as ET\n",
    "from datetime import datetime"
   ]
  },
  {
   "cell_type": "code",
   "execution_count": 3,
   "id": "737fe59a-0609-4ab1-8107-0ae0acb27648",
   "metadata": {
    "tags": []
   },
   "outputs": [],
   "source": [
    "# Variaveis de arquivos finais\n",
    "log_file = \"log_file.txt\"\n",
    "target_file = \"transformed_data.csv\""
   ]
  },
  {
   "cell_type": "code",
   "execution_count": 22,
   "id": "41d43522-39b4-4468-a560-d210308e28ad",
   "metadata": {
    "tags": []
   },
   "outputs": [],
   "source": [
    "# funções de extrações csv, json e xml\n",
    "\n",
    "def extract_from_csv(file_to_process):\n",
    "    \"\"\"Extrair dados de um arquivo csv e retorna um dataframe\"\"\"\n",
    "    df = pd.read_csv(file_to_process)\n",
    "    return df\n",
    "\n",
    "def extract_from_json(file_to_process):\n",
    "    \"\"\"\"Extrair dados de um arquivo json e retornar um datarame\"\"\"\n",
    "    df = pd.read_json(file_to_process, lines=True)\n",
    "    return df\n",
    "\n",
    "def extract_from_xml(file_to_process):\n",
    "    \"\"\"Extrair dados de um arquivo xml e retornar um dataframe\"\"\"\n",
    "    df = pd.DataFrame(columns=[\"name\", \"height\", \"weight\"])\n",
    "    tree = ET.parse(file_to_process)\n",
    "    root = tree.getroot()\n",
    "    \n",
    "    for person in root:\n",
    "        name = person.find(\"name\").text\n",
    "        height = float(person.find(\"height\").text)\n",
    "        weight = float(person.find(\"weight\").text)\n",
    "        df = pd.concat([df, pd.DataFrame([{\"name\": name, \"height\": height, \"weight\": weight}])], ignore_index=True)\n",
    "    print(df)\n",
    "    return df\n",
    "    \n"
   ]
  },
  {
   "cell_type": "code",
   "execution_count": 19,
   "id": "280d54c2-05e7-4d66-93f4-c68b9893706d",
   "metadata": {
    "tags": []
   },
   "outputs": [],
   "source": [
    "# Extração dos dados e retorno do Dataframe\n",
    "def extract():\n",
    "    \"\"\"Extrai todos dados usando funções préviamente definidas\"\"\"\n",
    "    extracted_data = pd.DataFrame(columns=[\"name\", \"height\", \"weight\"])\n",
    "    \n",
    "    # processar arquivos json\n",
    "    for jsonfile in glob.glob(\"./assets/*.json\"):\n",
    "        extracted_data = pd.concat([extracted_data, pd.DataFrame(extract_from_json(jsonfile))], ignore_index=True)\n",
    "    \n",
    "    # processar arquivos csv\n",
    "    for jsonfile in glob.glob(\"./assets/*.csv\"):\n",
    "        extracted_data = pd.concat([extracted_data, pd.DataFrame(extract_from_csv(jsonfile))], ignore_index=True)\n",
    "    \n",
    "    # processar arquivos xml\n",
    "    #for jsonfile in glob.glob(\"./assets/*.xml\"):\n",
    "    #    extracted_data = pd.concat([extracted_data, pd.DataFrame(extract_from_xml(jsonfile))], ignore_index=True)\n",
    "    \n",
    "    return extracted_data"
   ]
  },
  {
   "cell_type": "code",
   "execution_count": 10,
   "id": "dcfd5b88-2b90-4f2b-8936-3bc723b1686e",
   "metadata": {
    "tags": []
   },
   "outputs": [],
   "source": [
    "# Processo de transformação\n",
    "def transform(df):\n",
    "    \"\"\"Converter altura para m e peso para kg\"\"\"\n",
    "    df[\"height\"] = round(df.height * 0.0254, 2)\n",
    "    \n",
    "    df[\"weight\"] = round(df.weight * 0.45359237, 2)\n",
    "    \n",
    "    return df"
   ]
  },
  {
   "cell_type": "code",
   "execution_count": 7,
   "id": "858d3169-5c29-492b-aba7-9e7bbd256d1e",
   "metadata": {
    "tags": []
   },
   "outputs": [],
   "source": [
    "# carregar os dados nos arquivos finais\n",
    "def load_data(target_file, transformed_data):\n",
    "    transformed_data.to_csv(target_file)"
   ]
  },
  {
   "cell_type": "code",
   "execution_count": 8,
   "id": "b7844b4a-7f2e-4626-a1ec-0bc3a73245e0",
   "metadata": {
    "tags": []
   },
   "outputs": [],
   "source": [
    "# função de log\n",
    "def log_progress(message):\n",
    "    timestamp_format = \"%Y-%h-%d-%H:%M:%S\"\n",
    "    now = datetime.now()\n",
    "    timestamp = now.strftime(timestamp_format)\n",
    "    with open(log_file, \"a\") as f:\n",
    "        f.write(timestamp + \",\" + message + \"\\n\")"
   ]
  },
  {
   "cell_type": "code",
   "execution_count": 23,
   "id": "f30ca9f9-fcb5-4671-9b7b-c15666b1c72d",
   "metadata": {
    "tags": []
   },
   "outputs": [],
   "source": [
    "# inicializando ETL\n",
    "# inicializar ETL\n",
    "log_progress(\"Iniciando execução da ETL\")\n",
    "\n",
    "log_progress(\"Iniciando extração\")\n",
    "extracted_data = extract()\n",
    "\n",
    "log_progress(\"Extração inalizada\")\n",
    "\n",
    "log_progress(\"Iniciando transformação\")\n",
    "transformed_data = transform(extracted_data)\n",
    "log_progress(\"Finalizando transformação\")\n",
    "\n",
    "log_progress(\"Iniciando processo de load\")\n",
    "load_data(target_file, transformed_data)\n",
    "log_progress(\"Finalizando processo de load\")\n",
    "\n",
    "log_progress(\"ETL finanlizado\")"
   ]
  },
  {
   "cell_type": "code",
   "execution_count": null,
   "id": "2394976d-e7d9-4f28-9769-11cd1c920280",
   "metadata": {},
   "outputs": [],
   "source": [
    "# Verificar que há dados no arquivo final\n"
   ]
  }
 ],
 "metadata": {
  "kernelspec": {
   "display_name": "Python 3 (ipykernel)",
   "language": "python",
   "name": "python3"
  },
  "language_info": {
   "codemirror_mode": {
    "name": "ipython",
    "version": 3
   },
   "file_extension": ".py",
   "mimetype": "text/x-python",
   "name": "python",
   "nbconvert_exporter": "python",
   "pygments_lexer": "ipython3",
   "version": "3.11.5"
  }
 },
 "nbformat": 4,
 "nbformat_minor": 5
}
